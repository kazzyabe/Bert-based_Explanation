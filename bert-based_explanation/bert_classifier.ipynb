{
 "cells": [
  {
   "cell_type": "code",
   "execution_count": 1,
   "metadata": {},
   "outputs": [],
   "source": [
    "import pandas as pd\n",
    "import numpy as np"
   ]
  },
  {
   "cell_type": "code",
   "execution_count": 2,
   "metadata": {},
   "outputs": [],
   "source": [
    "data = pd.read_csv('data_bert.csv')"
   ]
  },
  {
   "cell_type": "code",
   "execution_count": 3,
   "metadata": {},
   "outputs": [
    {
     "data": {
      "text/html": [
       "<div>\n",
       "<style scoped>\n",
       "    .dataframe tbody tr th:only-of-type {\n",
       "        vertical-align: middle;\n",
       "    }\n",
       "\n",
       "    .dataframe tbody tr th {\n",
       "        vertical-align: top;\n",
       "    }\n",
       "\n",
       "    .dataframe thead th {\n",
       "        text-align: right;\n",
       "    }\n",
       "</style>\n",
       "<table border=\"1\" class=\"dataframe\">\n",
       "  <thead>\n",
       "    <tr style=\"text-align: right;\">\n",
       "      <th></th>\n",
       "      <th>problem</th>\n",
       "      <th>problem.1</th>\n",
       "      <th>solution/binary classification</th>\n",
       "    </tr>\n",
       "  </thead>\n",
       "  <tbody>\n",
       "    <tr>\n",
       "      <th>96</th>\n",
       "      <td>Learning Subjective Language  Theresa Wilson ...</td>\n",
       "      <td>Similarity-Based Estimation of Word Cooccurre...</td>\n",
       "      <td>1</td>\n",
       "    </tr>\n",
       "    <tr>\n",
       "      <th>97</th>\n",
       "      <td>Learning Subjective Language  Theresa Wilson ...</td>\n",
       "      <td>Recognizing Expressions of Commonsense Psycho...</td>\n",
       "      <td>1</td>\n",
       "    </tr>\n",
       "    <tr>\n",
       "      <th>98</th>\n",
       "      <td>Learning Subjective Language  Theresa Wilson ...</td>\n",
       "      <td>Automatic Detection of Text Genre  Xerox Palo...</td>\n",
       "      <td>0</td>\n",
       "    </tr>\n",
       "    <tr>\n",
       "      <th>99</th>\n",
       "      <td>Learning Subjective Language  Theresa Wilson ...</td>\n",
       "      <td>Building a Large Annotated Corpus of English:...</td>\n",
       "      <td>1</td>\n",
       "    </tr>\n",
       "    <tr>\n",
       "      <th>100</th>\n",
       "      <td>Learning Subjective Language  Theresa Wilson ...</td>\n",
       "      <td>Proceedings of the 40th Annual Meeting of the...</td>\n",
       "      <td>1</td>\n",
       "    </tr>\n",
       "  </tbody>\n",
       "</table>\n",
       "</div>"
      ],
      "text/plain": [
       "                                               problem  \\\n",
       "96    Learning Subjective Language  Theresa Wilson ...   \n",
       "97    Learning Subjective Language  Theresa Wilson ...   \n",
       "98    Learning Subjective Language  Theresa Wilson ...   \n",
       "99    Learning Subjective Language  Theresa Wilson ...   \n",
       "100   Learning Subjective Language  Theresa Wilson ...   \n",
       "\n",
       "                                             problem.1  \\\n",
       "96    Similarity-Based Estimation of Word Cooccurre...   \n",
       "97    Recognizing Expressions of Commonsense Psycho...   \n",
       "98    Automatic Detection of Text Genre  Xerox Palo...   \n",
       "99    Building a Large Annotated Corpus of English:...   \n",
       "100   Proceedings of the 40th Annual Meeting of the...   \n",
       "\n",
       "    solution/binary classification  \n",
       "96                               1  \n",
       "97                               1  \n",
       "98                               0  \n",
       "99                               1  \n",
       "100                              1  "
      ]
     },
     "execution_count": 3,
     "metadata": {},
     "output_type": "execute_result"
    }
   ],
   "source": [
    "data.tail()"
   ]
  },
  {
   "cell_type": "code",
   "execution_count": null,
   "metadata": {},
   "outputs": [],
   "source": []
  }
 ],
 "metadata": {
  "kernelspec": {
   "display_name": "Python 3",
   "language": "python",
   "name": "python3"
  },
  "language_info": {
   "codemirror_mode": {
    "name": "ipython",
    "version": 3
   },
   "file_extension": ".py",
   "mimetype": "text/x-python",
   "name": "python",
   "nbconvert_exporter": "python",
   "pygments_lexer": "ipython3",
   "version": "3.8.3"
  }
 },
 "nbformat": 4,
 "nbformat_minor": 4
}
