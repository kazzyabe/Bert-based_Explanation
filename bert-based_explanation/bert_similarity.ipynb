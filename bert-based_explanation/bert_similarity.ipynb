{
  "nbformat": 4,
  "nbformat_minor": 0,
  "metadata": {
    "colab": {
      "name": "bert_similarity.ipynb",
      "provenance": []
    },
    "kernelspec": {
      "name": "python3",
      "display_name": "Python 3"
    },
    "language_info": {
      "name": "python"
    },
    "widgets": {
      "application/vnd.jupyter.widget-state+json": {
        "34435df0b9684e1eb954dcaaade2afe2": {
          "model_module": "@jupyter-widgets/controls",
          "model_name": "HBoxModel",
          "state": {
            "_view_name": "HBoxView",
            "_dom_classes": [],
            "_model_name": "HBoxModel",
            "_view_module": "@jupyter-widgets/controls",
            "_model_module_version": "1.5.0",
            "_view_count": null,
            "_view_module_version": "1.5.0",
            "box_style": "",
            "layout": "IPY_MODEL_61218256867141c3be7848b166de3478",
            "_model_module": "@jupyter-widgets/controls",
            "children": [
              "IPY_MODEL_caa3312173da44adac26a4fe4b45b640",
              "IPY_MODEL_80403ea546dd4f2284006f026bcfb678"
            ]
          }
        },
        "61218256867141c3be7848b166de3478": {
          "model_module": "@jupyter-widgets/base",
          "model_name": "LayoutModel",
          "state": {
            "_view_name": "LayoutView",
            "grid_template_rows": null,
            "right": null,
            "justify_content": null,
            "_view_module": "@jupyter-widgets/base",
            "overflow": null,
            "_model_module_version": "1.2.0",
            "_view_count": null,
            "flex_flow": null,
            "width": null,
            "min_width": null,
            "border": null,
            "align_items": null,
            "bottom": null,
            "_model_module": "@jupyter-widgets/base",
            "top": null,
            "grid_column": null,
            "overflow_y": null,
            "overflow_x": null,
            "grid_auto_flow": null,
            "grid_area": null,
            "grid_template_columns": null,
            "flex": null,
            "_model_name": "LayoutModel",
            "justify_items": null,
            "grid_row": null,
            "max_height": null,
            "align_content": null,
            "visibility": null,
            "align_self": null,
            "height": null,
            "min_height": null,
            "padding": null,
            "grid_auto_rows": null,
            "grid_gap": null,
            "max_width": null,
            "order": null,
            "_view_module_version": "1.2.0",
            "grid_template_areas": null,
            "object_position": null,
            "object_fit": null,
            "grid_auto_columns": null,
            "margin": null,
            "display": null,
            "left": null
          }
        },
        "caa3312173da44adac26a4fe4b45b640": {
          "model_module": "@jupyter-widgets/controls",
          "model_name": "FloatProgressModel",
          "state": {
            "_view_name": "ProgressView",
            "style": "IPY_MODEL_6d126e9ce7e145849f679abe5cde9797",
            "_dom_classes": [],
            "description": "100%",
            "_model_name": "FloatProgressModel",
            "bar_style": "success",
            "max": 305584576,
            "_view_module": "@jupyter-widgets/controls",
            "_model_module_version": "1.5.0",
            "value": 305584576,
            "_view_count": null,
            "_view_module_version": "1.5.0",
            "orientation": "horizontal",
            "min": 0,
            "description_tooltip": null,
            "_model_module": "@jupyter-widgets/controls",
            "layout": "IPY_MODEL_642bed820b0b41d2b394c574d4bd6d85"
          }
        },
        "80403ea546dd4f2284006f026bcfb678": {
          "model_module": "@jupyter-widgets/controls",
          "model_name": "HTMLModel",
          "state": {
            "_view_name": "HTMLView",
            "style": "IPY_MODEL_ddd980e5b9184b7a9801812a3021df56",
            "_dom_classes": [],
            "description": "",
            "_model_name": "HTMLModel",
            "placeholder": "​",
            "_view_module": "@jupyter-widgets/controls",
            "_model_module_version": "1.5.0",
            "value": " 306M/306M [00:19&lt;00:00, 15.5MB/s]",
            "_view_count": null,
            "_view_module_version": "1.5.0",
            "description_tooltip": null,
            "_model_module": "@jupyter-widgets/controls",
            "layout": "IPY_MODEL_e2ad804392714f43bbf712c982beb78f"
          }
        },
        "6d126e9ce7e145849f679abe5cde9797": {
          "model_module": "@jupyter-widgets/controls",
          "model_name": "ProgressStyleModel",
          "state": {
            "_view_name": "StyleView",
            "_model_name": "ProgressStyleModel",
            "description_width": "initial",
            "_view_module": "@jupyter-widgets/base",
            "_model_module_version": "1.5.0",
            "_view_count": null,
            "_view_module_version": "1.2.0",
            "bar_color": null,
            "_model_module": "@jupyter-widgets/controls"
          }
        },
        "642bed820b0b41d2b394c574d4bd6d85": {
          "model_module": "@jupyter-widgets/base",
          "model_name": "LayoutModel",
          "state": {
            "_view_name": "LayoutView",
            "grid_template_rows": null,
            "right": null,
            "justify_content": null,
            "_view_module": "@jupyter-widgets/base",
            "overflow": null,
            "_model_module_version": "1.2.0",
            "_view_count": null,
            "flex_flow": null,
            "width": null,
            "min_width": null,
            "border": null,
            "align_items": null,
            "bottom": null,
            "_model_module": "@jupyter-widgets/base",
            "top": null,
            "grid_column": null,
            "overflow_y": null,
            "overflow_x": null,
            "grid_auto_flow": null,
            "grid_area": null,
            "grid_template_columns": null,
            "flex": null,
            "_model_name": "LayoutModel",
            "justify_items": null,
            "grid_row": null,
            "max_height": null,
            "align_content": null,
            "visibility": null,
            "align_self": null,
            "height": null,
            "min_height": null,
            "padding": null,
            "grid_auto_rows": null,
            "grid_gap": null,
            "max_width": null,
            "order": null,
            "_view_module_version": "1.2.0",
            "grid_template_areas": null,
            "object_position": null,
            "object_fit": null,
            "grid_auto_columns": null,
            "margin": null,
            "display": null,
            "left": null
          }
        },
        "ddd980e5b9184b7a9801812a3021df56": {
          "model_module": "@jupyter-widgets/controls",
          "model_name": "DescriptionStyleModel",
          "state": {
            "_view_name": "StyleView",
            "_model_name": "DescriptionStyleModel",
            "description_width": "",
            "_view_module": "@jupyter-widgets/base",
            "_model_module_version": "1.5.0",
            "_view_count": null,
            "_view_module_version": "1.2.0",
            "_model_module": "@jupyter-widgets/controls"
          }
        },
        "e2ad804392714f43bbf712c982beb78f": {
          "model_module": "@jupyter-widgets/base",
          "model_name": "LayoutModel",
          "state": {
            "_view_name": "LayoutView",
            "grid_template_rows": null,
            "right": null,
            "justify_content": null,
            "_view_module": "@jupyter-widgets/base",
            "overflow": null,
            "_model_module_version": "1.2.0",
            "_view_count": null,
            "flex_flow": null,
            "width": null,
            "min_width": null,
            "border": null,
            "align_items": null,
            "bottom": null,
            "_model_module": "@jupyter-widgets/base",
            "top": null,
            "grid_column": null,
            "overflow_y": null,
            "overflow_x": null,
            "grid_auto_flow": null,
            "grid_area": null,
            "grid_template_columns": null,
            "flex": null,
            "_model_name": "LayoutModel",
            "justify_items": null,
            "grid_row": null,
            "max_height": null,
            "align_content": null,
            "visibility": null,
            "align_self": null,
            "height": null,
            "min_height": null,
            "padding": null,
            "grid_auto_rows": null,
            "grid_gap": null,
            "max_width": null,
            "order": null,
            "_view_module_version": "1.2.0",
            "grid_template_areas": null,
            "object_position": null,
            "object_fit": null,
            "grid_auto_columns": null,
            "margin": null,
            "display": null,
            "left": null
          }
        }
      }
    }
  },
  "cells": [
    {
      "cell_type": "markdown",
      "metadata": {
        "id": "HtUCXX9FhlN2"
      },
      "source": [
        "# Installing sentence-transformers and Loading raw data"
      ]
    },
    {
      "cell_type": "code",
      "metadata": {
        "colab": {
          "base_uri": "https://localhost:8080/"
        },
        "id": "FnE1FOqeNoIA",
        "outputId": "9cb20f5a-0419-426b-bee3-d66ba01888bd"
      },
      "source": [
        "!pip install -U sentence-transformers"
      ],
      "execution_count": null,
      "outputs": [
        {
          "output_type": "stream",
          "text": [
            "Collecting sentence-transformers\n",
            "\u001b[?25l  Downloading https://files.pythonhosted.org/packages/35/aa/f672ce489063c4ee7a566ebac1b723c53ac0cea19d9e36599cc241d8ed56/sentence-transformers-1.0.4.tar.gz (74kB)\n",
            "\u001b[K     |████████████████████████████████| 81kB 3.5MB/s \n",
            "\u001b[?25hCollecting transformers<5.0.0,>=3.1.0\n",
            "\u001b[?25l  Downloading https://files.pythonhosted.org/packages/d8/b2/57495b5309f09fa501866e225c84532d1fd89536ea62406b2181933fb418/transformers-4.5.1-py3-none-any.whl (2.1MB)\n",
            "\u001b[K     |████████████████████████████████| 2.1MB 7.5MB/s \n",
            "\u001b[?25hRequirement already satisfied, skipping upgrade: tqdm in /usr/local/lib/python3.7/dist-packages (from sentence-transformers) (4.41.1)\n",
            "Requirement already satisfied, skipping upgrade: torch>=1.6.0 in /usr/local/lib/python3.7/dist-packages (from sentence-transformers) (1.8.1+cu101)\n",
            "Requirement already satisfied, skipping upgrade: numpy in /usr/local/lib/python3.7/dist-packages (from sentence-transformers) (1.19.5)\n",
            "Requirement already satisfied, skipping upgrade: scikit-learn in /usr/local/lib/python3.7/dist-packages (from sentence-transformers) (0.22.2.post1)\n",
            "Requirement already satisfied, skipping upgrade: scipy in /usr/local/lib/python3.7/dist-packages (from sentence-transformers) (1.4.1)\n",
            "Requirement already satisfied, skipping upgrade: nltk in /usr/local/lib/python3.7/dist-packages (from sentence-transformers) (3.2.5)\n",
            "Collecting sentencepiece\n",
            "\u001b[?25l  Downloading https://files.pythonhosted.org/packages/f5/99/e0808cb947ba10f575839c43e8fafc9cc44e4a7a2c8f79c60db48220a577/sentencepiece-0.1.95-cp37-cp37m-manylinux2014_x86_64.whl (1.2MB)\n",
            "\u001b[K     |████████████████████████████████| 1.2MB 39.9MB/s \n",
            "\u001b[?25hCollecting sacremoses\n",
            "\u001b[?25l  Downloading https://files.pythonhosted.org/packages/75/ee/67241dc87f266093c533a2d4d3d69438e57d7a90abb216fa076e7d475d4a/sacremoses-0.0.45-py3-none-any.whl (895kB)\n",
            "\u001b[K     |████████████████████████████████| 901kB 36.9MB/s \n",
            "\u001b[?25hRequirement already satisfied, skipping upgrade: packaging in /usr/local/lib/python3.7/dist-packages (from transformers<5.0.0,>=3.1.0->sentence-transformers) (20.9)\n",
            "Requirement already satisfied, skipping upgrade: regex!=2019.12.17 in /usr/local/lib/python3.7/dist-packages (from transformers<5.0.0,>=3.1.0->sentence-transformers) (2019.12.20)\n",
            "Requirement already satisfied, skipping upgrade: requests in /usr/local/lib/python3.7/dist-packages (from transformers<5.0.0,>=3.1.0->sentence-transformers) (2.23.0)\n",
            "Requirement already satisfied, skipping upgrade: importlib-metadata; python_version < \"3.8\" in /usr/local/lib/python3.7/dist-packages (from transformers<5.0.0,>=3.1.0->sentence-transformers) (3.10.1)\n",
            "Requirement already satisfied, skipping upgrade: filelock in /usr/local/lib/python3.7/dist-packages (from transformers<5.0.0,>=3.1.0->sentence-transformers) (3.0.12)\n",
            "Collecting tokenizers<0.11,>=0.10.1\n",
            "\u001b[?25l  Downloading https://files.pythonhosted.org/packages/ae/04/5b870f26a858552025a62f1649c20d29d2672c02ff3c3fb4c688ca46467a/tokenizers-0.10.2-cp37-cp37m-manylinux2010_x86_64.whl (3.3MB)\n",
            "\u001b[K     |████████████████████████████████| 3.3MB 41.8MB/s \n",
            "\u001b[?25hRequirement already satisfied, skipping upgrade: typing-extensions in /usr/local/lib/python3.7/dist-packages (from torch>=1.6.0->sentence-transformers) (3.7.4.3)\n",
            "Requirement already satisfied, skipping upgrade: joblib>=0.11 in /usr/local/lib/python3.7/dist-packages (from scikit-learn->sentence-transformers) (1.0.1)\n",
            "Requirement already satisfied, skipping upgrade: six in /usr/local/lib/python3.7/dist-packages (from nltk->sentence-transformers) (1.15.0)\n",
            "Requirement already satisfied, skipping upgrade: click in /usr/local/lib/python3.7/dist-packages (from sacremoses->transformers<5.0.0,>=3.1.0->sentence-transformers) (7.1.2)\n",
            "Requirement already satisfied, skipping upgrade: pyparsing>=2.0.2 in /usr/local/lib/python3.7/dist-packages (from packaging->transformers<5.0.0,>=3.1.0->sentence-transformers) (2.4.7)\n",
            "Requirement already satisfied, skipping upgrade: certifi>=2017.4.17 in /usr/local/lib/python3.7/dist-packages (from requests->transformers<5.0.0,>=3.1.0->sentence-transformers) (2020.12.5)\n",
            "Requirement already satisfied, skipping upgrade: chardet<4,>=3.0.2 in /usr/local/lib/python3.7/dist-packages (from requests->transformers<5.0.0,>=3.1.0->sentence-transformers) (3.0.4)\n",
            "Requirement already satisfied, skipping upgrade: urllib3!=1.25.0,!=1.25.1,<1.26,>=1.21.1 in /usr/local/lib/python3.7/dist-packages (from requests->transformers<5.0.0,>=3.1.0->sentence-transformers) (1.24.3)\n",
            "Requirement already satisfied, skipping upgrade: idna<3,>=2.5 in /usr/local/lib/python3.7/dist-packages (from requests->transformers<5.0.0,>=3.1.0->sentence-transformers) (2.10)\n",
            "Requirement already satisfied, skipping upgrade: zipp>=0.5 in /usr/local/lib/python3.7/dist-packages (from importlib-metadata; python_version < \"3.8\"->transformers<5.0.0,>=3.1.0->sentence-transformers) (3.4.1)\n",
            "Building wheels for collected packages: sentence-transformers\n",
            "  Building wheel for sentence-transformers (setup.py) ... \u001b[?25l\u001b[?25hdone\n",
            "  Created wheel for sentence-transformers: filename=sentence_transformers-1.0.4-cp37-none-any.whl size=114307 sha256=2a06ef3c4c1ff178486d51cd2f2bd1295408c43e5374b2e2a1c2ffb952f5e6fc\n",
            "  Stored in directory: /root/.cache/pip/wheels/26/ea/89/d0d2e013d951b6d23270aa9ca4018b82632ab7cd933c331316\n",
            "Successfully built sentence-transformers\n",
            "Installing collected packages: sacremoses, tokenizers, transformers, sentencepiece, sentence-transformers\n",
            "Successfully installed sacremoses-0.0.45 sentence-transformers-1.0.4 sentencepiece-0.1.95 tokenizers-0.10.2 transformers-4.5.1\n"
          ],
          "name": "stdout"
        }
      ]
    },
    {
      "cell_type": "code",
      "metadata": {
        "id": "ugE0XofnLfjE"
      },
      "source": [
        "import pandas as pd"
      ],
      "execution_count": null,
      "outputs": []
    },
    {
      "cell_type": "code",
      "metadata": {
        "id": "kIFwsG7MMqHi"
      },
      "source": [
        "url = 'https://raw.githubusercontent.com/kazzyabe/Bert-based_Explanation/master/bert-based_explanation/data_bert_abstract.csv'"
      ],
      "execution_count": null,
      "outputs": []
    },
    {
      "cell_type": "code",
      "metadata": {
        "id": "kG9994oeMvAA"
      },
      "source": [
        "data = pd.read_csv(url)"
      ],
      "execution_count": null,
      "outputs": []
    },
    {
      "cell_type": "code",
      "metadata": {
        "colab": {
          "base_uri": "https://localhost:8080/",
          "height": 402
        },
        "id": "WjMIocMeNNnn",
        "outputId": "fa0b32ce-8150-4fda-ba5a-0b205547eecc"
      },
      "source": [
        "data"
      ],
      "execution_count": null,
      "outputs": [
        {
          "output_type": "execute_result",
          "data": {
            "text/html": [
              "<div>\n",
              "<style scoped>\n",
              "    .dataframe tbody tr th:only-of-type {\n",
              "        vertical-align: middle;\n",
              "    }\n",
              "\n",
              "    .dataframe tbody tr th {\n",
              "        vertical-align: top;\n",
              "    }\n",
              "\n",
              "    .dataframe thead th {\n",
              "        text-align: right;\n",
              "    }\n",
              "</style>\n",
              "<table border=\"1\" class=\"dataframe\">\n",
              "  <thead>\n",
              "    <tr style=\"text-align: right;\">\n",
              "      <th></th>\n",
              "      <th>query</th>\n",
              "      <th>citation</th>\n",
              "      <th>decision</th>\n",
              "    </tr>\n",
              "  </thead>\n",
              "  <tbody>\n",
              "    <tr>\n",
              "      <th>0</th>\n",
              "      <td>Lexicon-Based Methods for Sentiment Analysis ...</td>\n",
              "      <td>Amazon Mechanical Turk for Subjectivity Word ...</td>\n",
              "      <td>1</td>\n",
              "    </tr>\n",
              "    <tr>\n",
              "      <th>1</th>\n",
              "      <td>Lexicon-Based Methods for Sentiment Analysis ...</td>\n",
              "      <td>Mining WordNet for Fuzzy Sentiment:  Sentimen...</td>\n",
              "      <td>1</td>\n",
              "    </tr>\n",
              "    <tr>\n",
              "      <th>2</th>\n",
              "      <td>Lexicon-Based Methods for Sentiment Analysis ...</td>\n",
              "      <td>When Specialists and Generalists Work Togethe...</td>\n",
              "      <td>0</td>\n",
              "    </tr>\n",
              "    <tr>\n",
              "      <th>3</th>\n",
              "      <td>Lexicon-Based Methods for Sentiment Analysis ...</td>\n",
              "      <td>Distilling Opinion in Discourse: A Preliminar...</td>\n",
              "      <td>0</td>\n",
              "    </tr>\n",
              "    <tr>\n",
              "      <th>4</th>\n",
              "      <td>Lexicon-Based Methods for Sentiment Analysis ...</td>\n",
              "      <td>SENTIWORDNET 3.0: An Enhanced Lexical Resourc...</td>\n",
              "      <td>1</td>\n",
              "    </tr>\n",
              "    <tr>\n",
              "      <th>...</th>\n",
              "      <td>...</td>\n",
              "      <td>...</td>\n",
              "      <td>...</td>\n",
              "    </tr>\n",
              "    <tr>\n",
              "      <th>95</th>\n",
              "      <td>Learning Subjective Language  Theresa Wilson ...</td>\n",
              "      <td>Similarity-Based Estimation of Word Cooccurre...</td>\n",
              "      <td>1</td>\n",
              "    </tr>\n",
              "    <tr>\n",
              "      <th>96</th>\n",
              "      <td>Learning Subjective Language  Theresa Wilson ...</td>\n",
              "      <td>Recognizing Expressions of Commonsense Psycho...</td>\n",
              "      <td>1</td>\n",
              "    </tr>\n",
              "    <tr>\n",
              "      <th>97</th>\n",
              "      <td>Learning Subjective Language  Theresa Wilson ...</td>\n",
              "      <td>Automatic Detection of Text Genre  Xerox Palo...</td>\n",
              "      <td>0</td>\n",
              "    </tr>\n",
              "    <tr>\n",
              "      <th>98</th>\n",
              "      <td>Learning Subjective Language  Theresa Wilson ...</td>\n",
              "      <td>Building a Large Annotated Corpus of English:...</td>\n",
              "      <td>1</td>\n",
              "    </tr>\n",
              "    <tr>\n",
              "      <th>99</th>\n",
              "      <td>Learning Subjective Language  Theresa Wilson ...</td>\n",
              "      <td>Proceedings of the 40th Annual Meeting of the...</td>\n",
              "      <td>1</td>\n",
              "    </tr>\n",
              "  </tbody>\n",
              "</table>\n",
              "<p>100 rows × 3 columns</p>\n",
              "</div>"
            ],
            "text/plain": [
              "                                                query  ... decision\n",
              "0    Lexicon-Based Methods for Sentiment Analysis ...  ...        1\n",
              "1    Lexicon-Based Methods for Sentiment Analysis ...  ...        1\n",
              "2    Lexicon-Based Methods for Sentiment Analysis ...  ...        0\n",
              "3    Lexicon-Based Methods for Sentiment Analysis ...  ...        0\n",
              "4    Lexicon-Based Methods for Sentiment Analysis ...  ...        1\n",
              "..                                                ...  ...      ...\n",
              "95   Learning Subjective Language  Theresa Wilson ...  ...        1\n",
              "96   Learning Subjective Language  Theresa Wilson ...  ...        1\n",
              "97   Learning Subjective Language  Theresa Wilson ...  ...        0\n",
              "98   Learning Subjective Language  Theresa Wilson ...  ...        1\n",
              "99   Learning Subjective Language  Theresa Wilson ...  ...        1\n",
              "\n",
              "[100 rows x 3 columns]"
            ]
          },
          "metadata": {
            "tags": []
          },
          "execution_count": 6
        }
      ]
    },
    {
      "cell_type": "code",
      "metadata": {
        "id": "twbcLbWGOKej"
      },
      "source": [
        "test = data.loc(0)"
      ],
      "execution_count": null,
      "outputs": []
    },
    {
      "cell_type": "code",
      "metadata": {
        "colab": {
          "base_uri": "https://localhost:8080/"
        },
        "id": "vMjbWkFEOWJQ",
        "outputId": "4371acc0-d639-4e23-ec46-1777e7f6dd36"
      },
      "source": [
        "test[0]"
      ],
      "execution_count": null,
      "outputs": [
        {
          "output_type": "execute_result",
          "data": {
            "text/plain": [
              "query        Lexicon-Based Methods for Sentiment Analysis ...\n",
              "citation     Amazon Mechanical Turk for Subjectivity Word ...\n",
              "decision                                                    1\n",
              "Name: 0, dtype: object"
            ]
          },
          "metadata": {
            "tags": []
          },
          "execution_count": 13
        }
      ]
    },
    {
      "cell_type": "markdown",
      "metadata": {
        "id": "p3yjPn5UNQ2g"
      },
      "source": [
        "# Bert Embeddings and similarity"
      ]
    },
    {
      "cell_type": "markdown",
      "metadata": {
        "id": "RaHCbCKOhgRr"
      },
      "source": [
        ""
      ]
    },
    {
      "cell_type": "code",
      "metadata": {
        "id": "GHf6-NUINPsp"
      },
      "source": [
        "from sentence_transformers import SentenceTransformer, util"
      ],
      "execution_count": null,
      "outputs": []
    },
    {
      "cell_type": "code",
      "metadata": {
        "colab": {
          "base_uri": "https://localhost:8080/",
          "height": 66,
          "referenced_widgets": [
            "34435df0b9684e1eb954dcaaade2afe2",
            "61218256867141c3be7848b166de3478",
            "caa3312173da44adac26a4fe4b45b640",
            "80403ea546dd4f2284006f026bcfb678",
            "6d126e9ce7e145849f679abe5cde9797",
            "642bed820b0b41d2b394c574d4bd6d85",
            "ddd980e5b9184b7a9801812a3021df56",
            "e2ad804392714f43bbf712c982beb78f"
          ]
        },
        "id": "zpb10pEaN2sX",
        "outputId": "bcf53610-5a30-43a1-c52e-b804b2ad39bc"
      },
      "source": [
        "model = SentenceTransformer('paraphrase-distilroberta-base-v1')"
      ],
      "execution_count": null,
      "outputs": [
        {
          "output_type": "display_data",
          "data": {
            "application/vnd.jupyter.widget-view+json": {
              "model_id": "34435df0b9684e1eb954dcaaade2afe2",
              "version_minor": 0,
              "version_major": 2
            },
            "text/plain": [
              "HBox(children=(FloatProgress(value=0.0, max=305584576.0), HTML(value='')))"
            ]
          },
          "metadata": {
            "tags": []
          }
        },
        {
          "output_type": "stream",
          "text": [
            "\n"
          ],
          "name": "stdout"
        }
      ]
    },
    {
      "cell_type": "code",
      "metadata": {
        "id": "K9MMEuduOb_u"
      },
      "source": [
        "emb1 = model.encode(test[0]['query'])"
      ],
      "execution_count": null,
      "outputs": []
    },
    {
      "cell_type": "code",
      "metadata": {
        "colab": {
          "base_uri": "https://localhost:8080/"
        },
        "collapsed": true,
        "id": "ZuE3htT4OnYg",
        "outputId": "6d82f105-3457-497e-8bd1-1b8adc36b7a2"
      },
      "source": [
        "emb1"
      ],
      "execution_count": null,
      "outputs": [
        {
          "output_type": "execute_result",
          "data": {
            "text/plain": [
              "array([-7.92179629e-02,  1.43447638e-01,  3.48825045e-02,  1.00453429e-01,\n",
              "       -2.44085819e-01,  2.64541596e-01,  6.26787618e-02,  1.24122724e-01,\n",
              "        2.38916725e-01,  1.40800819e-01,  9.28694531e-02, -1.53008431e-01,\n",
              "       -5.04332073e-02, -2.08792642e-01,  4.84189630e-01, -5.24679124e-01,\n",
              "       -2.48965308e-01,  2.66872108e-01,  2.65130758e-01, -3.62376630e-01,\n",
              "       -2.03113183e-01, -2.58812487e-01, -5.84234774e-01, -5.76784275e-03,\n",
              "        1.56039983e-01,  4.26899791e-01,  1.20357268e-01,  2.96965033e-01,\n",
              "       -3.75888169e-01,  3.25945318e-01, -1.33425251e-01, -8.19215328e-02,\n",
              "       -2.28072256e-01,  3.41555700e-02, -5.05156875e-01, -1.31687149e-01,\n",
              "        1.43502146e-01,  2.59144515e-01, -4.44411337e-01,  1.41337395e-01,\n",
              "        2.86842287e-01,  5.62809527e-01, -3.59770894e-01,  4.68921244e-01,\n",
              "       -1.23148570e-02, -1.36102557e-01, -7.73691654e-01, -1.07130551e+00,\n",
              "        2.52524726e-02, -1.10799976e-01,  4.01372790e-01,  1.21481717e-01,\n",
              "        1.39492363e-01,  5.48566818e-01, -5.94657511e-02,  5.71801960e-02,\n",
              "        8.85762870e-02, -2.33809903e-01,  5.59901819e-04, -3.78979975e-03,\n",
              "        2.41798878e-01, -2.03781798e-02,  4.42811847e-02, -4.60698992e-01,\n",
              "        2.63344854e-01, -1.82504982e-01, -2.61692684e-02,  4.91720796e-01,\n",
              "        9.43834707e-03,  1.67769492e-01, -3.83827180e-01,  1.78709999e-01,\n",
              "        1.24091767e-01,  1.42929330e-01, -1.48102909e-01,  2.58837074e-01,\n",
              "       -3.03765327e-01,  2.93975830e-01, -9.49967578e-02,  3.99156153e-01,\n",
              "       -3.33924517e-02,  2.55982995e-01, -1.60268359e-02,  8.50747898e-02,\n",
              "        6.31464124e-02,  1.69909492e-01, -9.42054316e-02, -4.01198357e-01,\n",
              "       -2.77530760e-01,  3.94181281e-01, -1.12020180e-01, -1.52998894e-01,\n",
              "        1.47343613e-04,  2.96678394e-04, -1.45678774e-01, -1.30661935e-01,\n",
              "       -2.02250421e-01, -7.54393339e-01,  1.37326851e-01, -5.39158463e-01,\n",
              "        4.76083010e-02, -1.20110624e-01,  8.67930651e-01,  2.94284761e-01,\n",
              "        3.53917718e-01,  4.44068998e-01, -6.30593717e-01,  6.03159107e-02,\n",
              "        5.83867878e-02, -2.83030927e-01, -2.01883286e-01, -1.60352468e-01,\n",
              "        3.06767017e-01,  1.70359820e-01, -7.45637566e-02, -1.35183603e-01,\n",
              "        4.88971531e-01,  1.38389900e-01, -1.06393315e-01,  1.15964353e-01,\n",
              "       -4.69166003e-02,  3.39140624e-01,  2.57810086e-01,  3.82075310e-01,\n",
              "       -3.91059011e-01,  5.99310160e-01, -1.35538012e-01,  4.13452014e-02,\n",
              "        1.83682323e-01,  2.58695543e-01, -8.69961232e-02,  2.52934620e-02,\n",
              "       -1.49582848e-01, -2.28930295e-01, -4.94950488e-02, -8.84509739e-03,\n",
              "        2.38845229e-01, -8.05994272e-02,  1.80402935e-01,  1.50591463e-01,\n",
              "        1.79629341e-01, -5.08888066e-02, -1.42657325e-01, -1.44066542e-01,\n",
              "        6.20404661e-01,  2.15902567e-01, -1.43160790e-01, -1.45123199e-01,\n",
              "       -1.59432873e-01,  3.85936260e-01,  1.72108367e-01, -9.91912112e-02,\n",
              "        2.39202708e-01, -2.17639744e-01,  5.49992979e-01,  1.90570697e-01,\n",
              "        1.06475353e-01,  1.91630468e-01,  2.80951977e-01, -5.32590151e-02,\n",
              "        2.53635079e-01,  3.70325714e-01,  1.94891512e-01,  3.08591966e-02,\n",
              "        3.36846530e-01, -7.55653456e-02,  1.46147087e-01,  1.62957907e-01,\n",
              "       -4.26438272e-01, -2.18964651e-01, -1.63614854e-01,  1.97348297e-01,\n",
              "       -2.41667539e-01, -6.70843646e-02, -5.80347538e-01, -1.96474791e-03,\n",
              "       -3.46615344e-01, -4.77129430e-01, -3.53292525e-01,  2.24397436e-01,\n",
              "       -3.71308446e-01,  2.54287332e-01, -4.04712968e-02, -7.89316744e-03,\n",
              "        4.42882657e-01,  8.62390175e-02, -6.06175587e-02, -2.42314488e-02,\n",
              "        2.59682655e-01,  1.08284559e-02,  3.57307523e-01,  1.85578629e-01,\n",
              "       -2.57490814e-01,  2.90480882e-01,  2.28851140e-02, -2.65626997e-01,\n",
              "        2.42724404e-01,  7.48095810e-02,  2.02976480e-01, -2.64500976e-01,\n",
              "        2.51278967e-01,  6.68692961e-02,  5.26220798e-01,  2.98272550e-01,\n",
              "        1.97580040e-01,  1.39792308e-01, -5.34687757e-01,  5.11737391e-02,\n",
              "        2.60301560e-01, -2.69095272e-01,  1.39865763e-02,  9.84298229e-01,\n",
              "       -5.63464105e-01, -6.80025145e-02, -1.39365625e-03,  2.21699804e-01,\n",
              "        8.60834867e-02,  3.67351949e-01, -7.75450990e-02, -3.91783476e-01,\n",
              "        1.93889573e-01,  3.23109189e-03,  1.39843360e-01, -1.50895640e-01,\n",
              "        5.82335353e-01, -4.76928830e-01,  9.83586907e-02, -1.36519641e-01,\n",
              "       -1.26283541e-01, -8.11952427e-02,  3.95746715e-02, -2.33235925e-01,\n",
              "       -1.01892613e-01, -1.40374511e-01,  1.46504909e-01, -2.39361413e-02,\n",
              "       -7.40021095e-02,  3.17239374e-01,  1.13535903e-01, -3.36901307e-01,\n",
              "        3.67081225e-01, -2.17027199e-02,  5.42059168e-03,  1.13602504e-01,\n",
              "        2.85152085e-02,  2.96724260e-01, -5.47600128e-02, -2.93669879e-01,\n",
              "        5.29783785e-01,  3.76509279e-02,  4.85006869e-01, -5.79505414e-02,\n",
              "        2.95535177e-02,  2.06178129e-01,  6.07704461e-01, -1.37023419e-01,\n",
              "       -1.41763419e-01,  1.03022277e-01,  2.41276011e-01,  5.38933218e-01,\n",
              "        1.08530283e-01, -2.47935116e-01,  1.31374329e-01,  1.02827847e-01,\n",
              "        7.92733431e-02,  1.23294182e-01, -2.64612943e-01, -1.32235706e-01,\n",
              "        2.64285415e-01, -3.02324504e-01,  1.75091773e-01,  3.42403769e-01,\n",
              "        2.16866806e-01,  2.11848676e-01,  1.50674403e-01, -8.18942115e-02,\n",
              "       -9.61748436e-02,  3.15708756e-01,  1.89171612e-01,  4.43596780e-01,\n",
              "       -3.67626883e-02, -1.21900499e-01,  4.04418141e-01, -6.81325793e-02,\n",
              "        4.39770579e-01, -3.47955763e-01, -1.99452251e-01, -2.94842850e-02,\n",
              "        5.71192741e-01,  5.05888741e-03, -6.89748721e-03, -1.96398690e-01,\n",
              "        8.74563772e-03,  2.94615120e-01, -1.92557126e-01,  4.21694040e-01,\n",
              "       -3.97917889e-02, -2.86956489e-01,  2.83985257e-01,  5.39781787e-02,\n",
              "       -2.37665653e-01,  1.30849555e-01,  2.60840729e-02,  1.38500035e-01,\n",
              "       -2.80909270e-01,  4.41726372e-02, -7.58981884e-01,  1.06383756e-01,\n",
              "       -1.79410338e-01,  2.51369864e-01, -9.12803933e-02,  7.72837773e-02,\n",
              "        2.96292394e-01, -1.77842319e-01,  8.24904814e-03,  3.88808548e-01,\n",
              "        7.35323057e-02,  1.55531010e-02, -7.52005577e-02, -2.10801110e-01,\n",
              "       -2.01563612e-01,  1.53602928e-01, -1.18373416e-01, -2.65336558e-02,\n",
              "       -3.37634861e-01,  2.09691837e-01, -7.28425026e-01, -2.30203927e-01,\n",
              "        4.01352525e-01, -1.39008284e-01,  4.84118432e-01, -6.53947443e-02,\n",
              "       -2.45537646e-02, -3.15255895e-02,  1.30359650e-01, -6.55679286e-01,\n",
              "        9.71263871e-02,  4.39575128e-03, -4.85968798e-01,  3.90966535e-01,\n",
              "        1.60227448e-01,  1.76860895e-02, -4.69883084e-01, -5.02245352e-02,\n",
              "       -1.62171558e-01,  8.85727331e-02, -5.21826483e-02,  7.11292922e-02,\n",
              "        2.98581094e-01, -3.80935848e-01,  1.43879324e-01,  6.13342077e-02,\n",
              "        9.42962617e-02,  2.74289459e-01, -9.82598662e-02, -1.15370296e-01,\n",
              "       -2.95198619e-01, -1.96810424e-01,  4.50556964e-01,  5.25754988e-01,\n",
              "       -2.05189794e-01,  2.69227594e-01, -2.65786678e-01, -1.24470249e-01,\n",
              "       -3.95924479e-01, -4.60556179e-01,  1.94469243e-01, -4.27095383e-01,\n",
              "        6.62402734e-02, -5.81437647e-01,  1.39873520e-01,  1.03765480e-01,\n",
              "        1.89911395e-01,  1.80469126e-01,  2.26755396e-01,  2.12853849e-01,\n",
              "        3.15502435e-02, -5.04935682e-02,  1.77447841e-01, -1.59187526e-01,\n",
              "       -9.62694921e-03,  1.73616409e-01,  1.33918509e-01, -2.22903285e-02,\n",
              "       -3.09775800e-01,  3.88951063e-01,  4.75297928e-01, -2.76611954e-01,\n",
              "        2.01360464e-01,  9.22747925e-02,  8.71231258e-02,  1.91915944e-01,\n",
              "       -3.72092009e-01, -2.54519075e-01,  8.74701291e-02,  4.41201925e-02,\n",
              "       -1.40587673e-01, -4.47800815e-01,  3.41484725e-01,  3.61012742e-02,\n",
              "        4.19226944e-01,  7.98901841e-02,  1.36256084e-01,  3.98777127e-01,\n",
              "        1.41735571e-02,  2.98773289e-01,  5.05766012e-02, -2.02989563e-01,\n",
              "       -5.72610945e-02,  2.21844509e-01,  2.11837173e-01,  2.22940668e-01,\n",
              "       -2.89177269e-01, -2.18804032e-01, -1.61822855e-01, -1.56373516e-01,\n",
              "       -9.54175591e-02, -2.29289159e-02,  2.74769068e-01, -2.66219735e-01,\n",
              "       -2.47906834e-01,  1.21570989e-01,  1.97969437e-01, -1.30028740e-01,\n",
              "       -7.52597675e-02,  9.47099254e-02, -6.95259869e-02,  2.94773519e-01,\n",
              "       -1.43120259e-01, -4.13899422e-02,  5.55402860e-02,  3.14194947e-01,\n",
              "       -3.74780357e-01,  3.45541351e-02,  2.84507930e-01,  1.83532909e-01,\n",
              "        6.01859763e-02,  8.58895779e-02,  8.63661431e-03, -3.04150432e-02,\n",
              "       -6.89572021e-02,  3.88873011e-01, -7.12542236e-02, -6.33257806e-01,\n",
              "       -2.78850883e-01, -5.12971953e-02, -3.05852175e-01, -1.56864002e-01,\n",
              "        4.54093888e-02,  4.89450991e-01, -2.93690145e-01, -3.82385194e-01,\n",
              "       -1.52740628e-01,  3.16002458e-01,  8.87020007e-02,  2.87062675e-01,\n",
              "        9.33536291e-02, -5.41703105e-02,  1.00992434e-03,  1.00383356e-01,\n",
              "        1.10702477e-02,  2.39662468e-01, -2.48385489e-01, -1.02497600e-01,\n",
              "        2.74083614e-01,  9.98549089e-02,  3.38543057e-01,  1.90671369e-01,\n",
              "       -2.44577661e-01,  4.69095945e-01, -1.67584851e-01, -1.04710199e-01,\n",
              "       -2.16928199e-02,  3.04923385e-01, -7.95538165e-03,  2.52295192e-02,\n",
              "        7.91806057e-02, -2.86933005e-01,  3.39999557e-01, -1.75205842e-01,\n",
              "        2.70489752e-01,  5.52497581e-02, -1.52167439e-01, -3.57546777e-01,\n",
              "        1.13514893e-01,  5.60814552e-02, -5.54617569e-02,  3.02590221e-01,\n",
              "       -2.56771594e-01,  3.38598996e-01,  3.27574223e-01,  4.04250264e-01,\n",
              "        2.17511356e-01, -2.38629561e-02, -1.95564017e-01, -1.43927678e-01,\n",
              "       -1.69355422e-01,  6.35051370e-01, -3.96061122e-01,  3.86894107e-01,\n",
              "       -4.22850922e-02,  2.80544996e-01, -1.30520225e-01,  3.05554960e-02,\n",
              "        1.29435971e-01,  1.92005813e-01, -4.44717668e-02, -5.22079654e-02,\n",
              "        1.11323737e-01,  4.70984913e-02, -5.11106700e-02, -2.40437817e-02,\n",
              "        2.95458615e-01,  8.31353664e-02,  3.21589261e-01,  1.10740438e-02,\n",
              "        1.25921294e-01,  8.97624940e-02,  1.57436535e-01,  2.63017744e-01,\n",
              "        4.55479994e-02,  1.28446802e-01,  3.15833300e-01,  1.33885205e-01,\n",
              "        6.05496392e-02, -2.43514225e-01, -8.08735266e-02,  1.45035475e-01,\n",
              "       -1.87605292e-01,  2.01411098e-02,  1.51387200e-01,  2.17986137e-01,\n",
              "        2.16740638e-01, -1.66621402e-01,  2.24921882e-01, -2.54441619e-01,\n",
              "       -3.55900645e-01, -2.13362336e-01,  3.24685156e-01, -2.03019410e-01,\n",
              "       -5.77392876e-02,  7.44280964e-02,  4.49408621e-01, -1.54681087e-01,\n",
              "       -2.60411382e-01,  2.91641504e-01,  2.25002050e-01,  6.67088479e-02,\n",
              "        2.37782225e-01,  1.31014228e-01, -5.85715353e-01,  6.23673201e-01,\n",
              "       -3.00256312e-01, -1.48894608e-01,  3.98486806e-03, -4.89396453e-02,\n",
              "        1.73231483e-01, -3.72364163e-01, -9.51846018e-02,  2.39779755e-01,\n",
              "       -1.54380500e-01, -9.47109163e-02,  2.11764917e-01, -2.84218378e-02,\n",
              "       -3.47617902e-02,  2.58323848e-01, -1.12653732e-01, -3.33402574e-01,\n",
              "        2.65461177e-01,  3.83279771e-01,  8.38467255e-02,  7.90253878e-02,\n",
              "       -2.64172643e-01, -2.13088974e-01, -1.30340397e-01, -1.34829059e-01,\n",
              "        1.04295217e-01, -6.15923762e-01, -6.13741398e-01,  1.46709621e-01,\n",
              "       -1.43977061e-01,  3.78053278e-01, -2.74956554e-01,  9.96968374e-02,\n",
              "       -6.88077286e-02, -1.05416909e-01,  3.79288256e-01, -8.14209729e-02,\n",
              "       -3.15742642e-01,  1.34121612e-01, -6.85374904e-03,  1.42042845e-01,\n",
              "        2.16862075e-02, -9.87111852e-02,  1.76749706e-01,  3.36950094e-01,\n",
              "        2.50960082e-01, -1.80375446e-02,  4.08906132e-01, -9.16849673e-02,\n",
              "        3.47119361e-01,  3.32893282e-01,  2.87750494e-02,  4.76926386e-01,\n",
              "       -4.34143275e-01, -8.18978697e-02,  2.67673373e-01,  3.54941376e-02,\n",
              "       -4.43762392e-01,  5.49440861e-01, -8.16165283e-02,  3.20320189e-01,\n",
              "        1.43649057e-03,  2.12019011e-02, -1.77929655e-01, -4.24267173e-01,\n",
              "        1.43307336e-02,  1.50249332e-01, -2.39294767e-01,  1.02311606e-02,\n",
              "        1.00546621e-01, -2.33829394e-01, -3.69429588e-01, -1.20193779e-01,\n",
              "        2.72423267e-01, -1.60658181e-01,  1.59159839e-01, -1.94778040e-01,\n",
              "       -5.18823080e-02, -2.62803197e-01,  1.71783715e-01,  1.13483533e-01,\n",
              "        2.67361313e-01, -1.45703107e-02, -2.66974643e-02,  1.60292178e-01,\n",
              "        4.38636780e-01,  1.32986054e-01, -2.84929238e-02,  4.20809001e-01,\n",
              "        4.79856692e-02,  8.44521970e-02, -8.53492171e-02, -2.39587426e-01,\n",
              "       -2.71846652e-01,  3.28631669e-01, -8.24325532e-02, -2.85601407e-01,\n",
              "       -5.71834967e-02,  3.00415337e-01,  7.75788128e-02,  2.73566067e-01,\n",
              "       -1.52263373e-01, -7.35232234e-01, -9.72123444e-02, -2.87729383e-01,\n",
              "       -1.48601204e-01,  1.99777275e-01, -1.61078140e-01,  7.22829401e-02,\n",
              "       -1.04370080e-02,  4.84690666e-01,  3.20858151e-01, -1.38975620e-01,\n",
              "       -2.93860167e-01, -8.10335502e-02,  3.89705822e-02, -2.78874636e-01,\n",
              "       -2.15249479e-01, -1.10546619e-01, -1.09724579e-02, -2.79820282e-02,\n",
              "       -2.97981918e-01, -1.39417246e-01,  2.60858685e-01,  2.58176893e-01,\n",
              "       -3.98757309e-02,  2.13683888e-01, -1.55239608e-02,  3.16358864e-01,\n",
              "        1.48980573e-01, -7.22527206e-02,  5.68705857e-01, -1.13307975e-01,\n",
              "       -7.50143453e-03, -2.93975830e-01,  1.25752226e-01, -5.89042678e-02,\n",
              "       -2.55482644e-01, -2.54169047e-01,  5.78126609e-02,  3.10336590e-01,\n",
              "       -3.87288444e-02, -5.42073309e-01, -2.30963752e-02,  3.14353645e-01,\n",
              "        1.39521226e-01,  3.22144143e-02, -1.69810310e-01, -3.89294952e-01,\n",
              "       -7.87027031e-02,  2.50733912e-01,  2.21711516e-01, -1.59042217e-02,\n",
              "       -5.18437475e-02, -4.15461779e-01, -1.46077096e-01, -1.75424784e-01,\n",
              "        3.14452559e-01, -4.05750036e-01, -1.06840789e-01,  1.03501402e-01,\n",
              "        8.85867998e-02, -2.71808654e-01, -3.98233384e-02, -1.23599991e-01,\n",
              "       -1.12895392e-01,  2.85515040e-02, -2.58709967e-01, -5.11804894e-02,\n",
              "       -4.79614615e-01, -8.87251692e-04, -5.20395786e-02,  1.26426235e-01,\n",
              "        8.46606344e-02, -1.12727053e-01, -3.32514524e-01, -1.50192365e-01,\n",
              "        1.16308287e-01, -9.32136774e-02,  4.02570516e-02,  2.83446789e-01,\n",
              "        2.84049183e-01,  1.79143757e-01,  5.07998466e-01,  2.60490686e-01,\n",
              "        2.62759238e-01, -1.41262785e-01, -2.12547928e-02,  1.51982173e-01,\n",
              "       -1.02612630e-01, -2.57701606e-01, -3.15961502e-02, -4.06627923e-01,\n",
              "       -1.77620187e-01, -4.12355037e-03, -1.92227632e-01,  8.61342847e-02,\n",
              "        1.22427214e-02, -1.48627251e-01,  4.01403517e-01,  9.14422423e-02,\n",
              "       -1.21779591e-01,  3.30121309e-01, -5.45598805e-01, -1.96925059e-01,\n",
              "        1.12031013e-01, -1.75154313e-01,  6.45211458e-01, -4.18570846e-01,\n",
              "        4.70961511e-01,  8.91480371e-02,  1.07028916e-01, -3.35395224e-02,\n",
              "       -8.88654068e-02,  5.75287044e-01,  4.11177903e-01,  3.44049707e-02],\n",
              "      dtype=float32)"
            ]
          },
          "metadata": {
            "tags": []
          },
          "execution_count": 15
        }
      ]
    },
    {
      "cell_type": "code",
      "metadata": {
        "id": "jMTtw0LEO9hb"
      },
      "source": [
        "emb2 = model.encode(test[0]['citation'])"
      ],
      "execution_count": null,
      "outputs": []
    },
    {
      "cell_type": "code",
      "metadata": {
        "colab": {
          "base_uri": "https://localhost:8080/"
        },
        "id": "dK9wd8HGPH0o",
        "outputId": "7b842f7c-d91b-4325-a6a3-948655c92e07"
      },
      "source": [
        "cos_sim = util.pytorch_cos_sim(emb1, emb2)\n",
        "print(\"Cosine-Similarity:\", cos_sim)"
      ],
      "execution_count": null,
      "outputs": [
        {
          "output_type": "stream",
          "text": [
            "Cosine-Similarity: tensor([[0.3066]])\n"
          ],
          "name": "stdout"
        }
      ]
    },
    {
      "cell_type": "code",
      "metadata": {
        "colab": {
          "base_uri": "https://localhost:8080/"
        },
        "id": "ydPOwTGJPseY",
        "outputId": "a2638e31-f682-48e3-8875-f84445f99d6b"
      },
      "source": [
        "print(\"Cosine-Similarity:\", cos_sim.item())"
      ],
      "execution_count": null,
      "outputs": [
        {
          "output_type": "stream",
          "text": [
            "Cosine-Similarity: 0.30656397342681885\n"
          ],
          "name": "stdout"
        }
      ]
    },
    {
      "cell_type": "code",
      "metadata": {
        "id": "9Pj6G2tJPQ8B"
      },
      "source": [
        "def cos_sim(d):\n",
        "  emb1 = model.encode(d['query'])\n",
        "  emb2 = model.encode(d['citation'])\n",
        "  cos_sim = util.pytorch_cos_sim(emb1, emb2)\n",
        "  return cos_sim.item()"
      ],
      "execution_count": null,
      "outputs": []
    },
    {
      "cell_type": "code",
      "metadata": {
        "id": "ENdbkxRrP3HP"
      },
      "source": [
        "data['cos_sim'] = data.apply(lambda d: cos_sim(d), axis=1)"
      ],
      "execution_count": null,
      "outputs": []
    },
    {
      "cell_type": "code",
      "metadata": {
        "colab": {
          "base_uri": "https://localhost:8080/"
        },
        "id": "O3uYUsKYQCrr",
        "outputId": "de5320d8-0751-41b6-b7d6-d13e6d0e1a40"
      },
      "source": [
        "data['cos_sim']"
      ],
      "execution_count": null,
      "outputs": [
        {
          "output_type": "execute_result",
          "data": {
            "text/plain": [
              "0     0.306564\n",
              "1     0.526880\n",
              "2     0.316767\n",
              "3     0.386031\n",
              "4     0.419494\n",
              "        ...   \n",
              "95    0.537981\n",
              "96    0.591112\n",
              "97    0.461797\n",
              "98    0.376774\n",
              "99    0.433764\n",
              "Name: cos_sim, Length: 100, dtype: float64"
            ]
          },
          "metadata": {
            "tags": []
          },
          "execution_count": 24
        }
      ]
    },
    {
      "cell_type": "code",
      "metadata": {
        "id": "5Klt5sqSQ9Wh"
      },
      "source": [
        "import matplotlib.pyplot as plt"
      ],
      "execution_count": null,
      "outputs": []
    },
    {
      "cell_type": "code",
      "metadata": {
        "id": "A4yX74XlRV_L"
      },
      "source": [
        "x = data['cos_sim']\n",
        "y = data['decision']"
      ],
      "execution_count": null,
      "outputs": []
    },
    {
      "cell_type": "code",
      "metadata": {
        "colab": {
          "base_uri": "https://localhost:8080/",
          "height": 282
        },
        "id": "V2tGl9JRRKIv",
        "outputId": "37cc7f9c-3b5e-45ea-9e5f-32c5d15363c6"
      },
      "source": [
        "plt.scatter(x,y)"
      ],
      "execution_count": null,
      "outputs": [
        {
          "output_type": "execute_result",
          "data": {
            "text/plain": [
              "<matplotlib.collections.PathCollection at 0x7f9c821a6910>"
            ]
          },
          "metadata": {
            "tags": []
          },
          "execution_count": 30
        },
        {
          "output_type": "display_data",
          "data": {
            "image/png": "[encoded data removed]",
            "text/plain": [
              "<Figure size 432x288 with 1 Axes>"
            ]
          },
          "metadata": {
            "tags": [],
            "needs_background": "light"
          }
        }
      ]
    },
    {
      "cell_type": "code",
      "metadata": {
        "id": "d1vnzZFSTkjS"
      },
      "source": [
        "data.to_csv('cos_sim.csv', index=False)"
      ],
      "execution_count": null,
      "outputs": []
    },
    {
      "cell_type": "markdown",
      "metadata": {
        "id": "55NtDNIpUKHT"
      },
      "source": [
        "## Downloading "
      ]
    },
    {
      "cell_type": "code",
      "metadata": {
        "colab": {
          "base_uri": "https://localhost:8080/",
          "height": 17
        },
        "id": "XiBy6nS-UG47",
        "outputId": "dfa9eb4e-c011-43be-b538-cb5955a5af3f"
      },
      "source": [
        "from google.colab import files\n",
        "files.download(\"cos_sim.csv\")"
      ],
      "execution_count": null,
      "outputs": [
        {
          "output_type": "display_data",
          "data": {
            "application/javascript": [
              "\n",
              "    async function download(id, filename, size) {\n",
              "      if (!google.colab.kernel.accessAllowed) {\n",
              "        return;\n",
              "      }\n",
              "      const div = document.createElement('div');\n",
              "      const label = document.createElement('label');\n",
              "      label.textContent = `Downloading \"${filename}\": `;\n",
              "      div.appendChild(label);\n",
              "      const progress = document.createElement('progress');\n",
              "      progress.max = size;\n",
              "      div.appendChild(progress);\n",
              "      document.body.appendChild(div);\n",
              "\n",
              "      const buffers = [];\n",
              "      let downloaded = 0;\n",
              "\n",
              "      const channel = await google.colab.kernel.comms.open(id);\n",
              "      // Send a message to notify the kernel that we're ready.\n",
              "      channel.send({})\n",
              "\n",
              "      for await (const message of channel.messages) {\n",
              "        // Send a message to notify the kernel that we're ready.\n",
              "        channel.send({})\n",
              "        if (message.buffers) {\n",
              "          for (const buffer of message.buffers) {\n",
              "            buffers.push(buffer);\n",
              "            downloaded += buffer.byteLength;\n",
              "            progress.value = downloaded;\n",
              "          }\n",
              "        }\n",
              "      }\n",
              "      const blob = new Blob(buffers, {type: 'application/binary'});\n",
              "      const a = document.createElement('a');\n",
              "      a.href = window.URL.createObjectURL(blob);\n",
              "      a.download = filename;\n",
              "      div.appendChild(a);\n",
              "      a.click();\n",
              "      div.remove();\n",
              "    }\n",
              "  "
            ],
            "text/plain": [
              "<IPython.core.display.Javascript object>"
            ]
          },
          "metadata": {
            "tags": []
          }
        },
        {
          "output_type": "display_data",
          "data": {
            "application/javascript": [
              "download(\"download_851cd008-16c5-497e-a194-f34f271e5a41\", \"cos_sim.csv\", 557187)"
            ],
            "text/plain": [
              "<IPython.core.display.Javascript object>"
            ]
          },
          "metadata": {
            "tags": []
          }
        }
      ]
    },
    {
      "cell_type": "markdown",
      "metadata": {
        "id": "-cryXv_XgeFN"
      },
      "source": [
        "# ROC for cos_sim"
      ]
    },
    {
      "cell_type": "code",
      "metadata": {
        "id": "F81ITljsgi1S"
      },
      "source": [
        "import pandas as pd\n",
        "import numpy as np\n",
        "import matplotlib.pyplot as plt\n",
        "from itertools import cycle\n",
        "\n",
        "from sklearn import svm, datasets\n",
        "from sklearn.metrics import roc_curve, auc\n",
        "from sklearn.model_selection import train_test_split\n",
        "from sklearn.preprocessing import label_binarize\n",
        "from sklearn.multiclass import OneVsRestClassifier\n",
        "from scipy import interp\n",
        "from sklearn.metrics import roc_auc_score"
      ],
      "execution_count": 1,
      "outputs": []
    },
    {
      "cell_type": "code",
      "metadata": {
        "id": "-H4n4hDYgpgA"
      },
      "source": [
        "cos_sim = \"https://raw.githubusercontent.com/kazzyabe/Bert-based_Explanation/master/bert-based_explanation/cos_sim.csv\"\n",
        "data = pd.read_csv(cos_sim)\n",
        "X = data['cos_sim']\n",
        "y = data['decision']"
      ],
      "execution_count": 3,
      "outputs": []
    },
    {
      "cell_type": "code",
      "metadata": {
        "id": "if9fmQlagtwH"
      },
      "source": [
        "# Binarize the output\n",
        "y = label_binarize(y, classes=[0, 1])\n",
        "n_classes = y.shape[1]"
      ],
      "execution_count": 4,
      "outputs": []
    },
    {
      "cell_type": "code",
      "metadata": {
        "id": "ZXaaQYPDhDyt"
      },
      "source": [
        "# Add noisy features to make the problem harder\n",
        "random_state = np.random.RandomState(0)\n",
        "# n_samples, n_features = X.shape\n",
        "n_samples = 100\n",
        "n_features = 1\n",
        "X = np.c_[X, random_state.randn(n_samples, 200 * n_features)]"
      ],
      "execution_count": 5,
      "outputs": []
    },
    {
      "cell_type": "code",
      "metadata": {
        "id": "koBVJk_DhIVe"
      },
      "source": [
        "X_train, X_test, y_train, y_test = train_test_split(X, y, test_size=.5,\n",
        "                                                    random_state=0)"
      ],
      "execution_count": 6,
      "outputs": []
    },
    {
      "cell_type": "code",
      "metadata": {
        "id": "YjE_iPTYhL6O"
      },
      "source": [
        "# Learn to predict each class against the other\n",
        "classifier = OneVsRestClassifier(svm.SVC(kernel='linear', probability=True,\n",
        "                                 random_state=random_state))\n",
        "y_score = classifier.fit(X_train, y_train).decision_function(X_test)"
      ],
      "execution_count": 7,
      "outputs": []
    },
    {
      "cell_type": "code",
      "metadata": {
        "id": "EVedQGMuhPHW"
      },
      "source": [
        "# Compute ROC curve and ROC area for each class\n",
        "fpr = dict()\n",
        "tpr = dict()\n",
        "roc_auc = dict()\n",
        "\n",
        "fpr[0], tpr[0], _ = roc_curve(y_test[:], y_score[:])\n",
        "roc_auc[0] = auc(fpr[0], tpr[0])\n",
        "\n",
        "# Compute micro-average ROC curve and ROC area\n",
        "fpr[\"micro\"], tpr[\"micro\"], _ = roc_curve(y_test.ravel(), y_score.ravel())\n",
        "roc_auc[\"micro\"] = auc(fpr[\"micro\"], tpr[\"micro\"])"
      ],
      "execution_count": 8,
      "outputs": []
    },
    {
      "cell_type": "code",
      "metadata": {
        "colab": {
          "base_uri": "https://localhost:8080/",
          "height": 295
        },
        "id": "l-OYBYF9hS0N",
        "outputId": "bc05b174-3bd7-4192-925f-8af397be04d0"
      },
      "source": [
        "plt.figure()\n",
        "lw = 2\n",
        "plt.plot(fpr[0], tpr[0], color='darkorange',\n",
        "         lw=lw, label='ROC curve (area = %0.2f)' % roc_auc[0])\n",
        "plt.plot([0, 1], [0, 1], color='navy', lw=lw, linestyle='--')\n",
        "plt.xlim([0.0, 1.0])\n",
        "plt.ylim([0.0, 1.05])\n",
        "plt.xlabel('False Positive Rate')\n",
        "plt.ylabel('True Positive Rate')\n",
        "plt.title('Receiver operating characteristic example')\n",
        "plt.legend(loc=\"lower right\")\n",
        "plt.show()"
      ],
      "execution_count": 9,
      "outputs": [
        {
          "output_type": "display_data",
          "data": {
            "image/png": "[encoded data removed]",
            "text/plain": [
              "<Figure size 432x288 with 1 Axes>"
            ]
          },
          "metadata": {
            "tags": [],
            "needs_background": "light"
          }
        }
      ]
    },
    {
      "cell_type": "markdown",
      "metadata": {
        "id": "OYQWEVOgh7X-"
      },
      "source": [
        "# Bert Classifier"
      ]
    },
    {
      "cell_type": "code",
      "metadata": {
        "id": "E93SN8a9h-3D"
      },
      "source": [
        ""
      ],
      "execution_count": null,
      "outputs": []
    }
  ]
}